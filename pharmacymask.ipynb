{
  "nbformat": 4,
  "nbformat_minor": 0,
  "metadata": {
    "colab": {
      "provenance": [],
      "authorship_tag": "ABX9TyPmtJR5RGAR8u0/naCLA6KA",
      "include_colab_link": true
    },
    "kernelspec": {
      "name": "python3",
      "display_name": "Python 3"
    },
    "language_info": {
      "name": "python"
    }
  },
  "cells": [
    {
      "cell_type": "markdown",
      "metadata": {
        "id": "view-in-github",
        "colab_type": "text"
      },
      "source": [
        "<a href=\"https://colab.research.google.com/github/YSlillia/pharmacymask/blob/main/pharmacymask.ipynb\" target=\"_parent\"><img src=\"https://colab.research.google.com/assets/colab-badge.svg\" alt=\"Open In Colab\"/></a>"
      ]
    },
    {
      "cell_type": "markdown",
      "source": [
        "口罩地圖 API 網址：https://raw.githubusercontent.com/kiang/pharmacies/master/json/points.json"
      ],
      "metadata": {
        "id": "BshnpKIPBSXl"
      }
    },
    {
      "cell_type": "markdown",
      "source": [
        "資料中提供詳細的全台藥局資訊，包含藥局名稱、地址、電話、營業時間等相關基本訊息，以及各藥局的note與成人和孩童的口罩數量，還有藥局所在的經緯度資訊。\n",
        "\n",
        "延伸應用：藥局口罩庫存查詢、補充庫存提醒、庫存地圖視覺化、預測口罩需求、預約系統"
      ],
      "metadata": {
        "id": "YKvHVSr_BZoh"
      }
    },
    {
      "cell_type": "code",
      "source": [
        "import requests\n",
        "import json\n",
        "\n",
        "url = 'https://raw.githubusercontent.com/kiang/pharmacies/master/json/points.json'\n",
        "response = requests.get(url)\n",
        "\n",
        "datastr = response.text\n",
        "\n",
        "data = json.loads(datastr)\n",
        "\n",
        "print(data)"
      ],
      "metadata": {
        "id": "qipU_2QRmbM_"
      },
      "execution_count": null,
      "outputs": []
    },
    {
      "cell_type": "markdown",
      "source": [
        "**計算各地區的藥局數量**"
      ],
      "metadata": {
        "id": "LhoawpECyG_B"
      }
    },
    {
      "cell_type": "code",
      "source": [
        "med_count = {}\n",
        "\n",
        "# 取得藥局所在的縣市\n",
        "for d in data['features']:\n",
        "  county = d['properties']['county']\n",
        "\n",
        "  #若縣市沒有在字典中 字典加入縣市 藥局數量初始化為1\n",
        "  if county not in med_count:\n",
        "    med_count[county] = 1\n",
        "  #縣市原有的藥局數量加1\n",
        "  else:\n",
        "    med_count[county] +=1\n",
        "\n",
        "print(med_count)"
      ],
      "metadata": {
        "colab": {
          "base_uri": "https://localhost:8080/"
        },
        "id": "jW5hAWbhxbZP",
        "outputId": "8a1bc500-cce0-4be7-88c3-b1873dc225e9"
      },
      "execution_count": 2,
      "outputs": [
        {
          "output_type": "stream",
          "name": "stdout",
          "text": [
            "{'臺北市': 339, '': 49, '高雄市': 422, '臺中市': 420, '臺南市': 271, '基隆市': 57, '新竹市': 39, '嘉義市': 67, '新北市': 501, '桃園市': 264, '新竹縣': 46, '宜蘭縣': 76, '苗栗縣': 56, '彰化縣': 179, '南投縣': 67, '雲林縣': 129, '嘉義縣': 84, '屏東縣': 140, '澎湖縣': 11, '花蓮縣': 46, '臺東縣': 23, '金門縣': 6, '連江縣': 1}\n"
          ]
        }
      ]
    },
    {
      "cell_type": "markdown",
      "source": [
        "**計算出每個地區的成人剩餘口罩數量（將結果從大到小排列）**"
      ],
      "metadata": {
        "id": "YcTMqAPB12ow"
      }
    },
    {
      "cell_type": "code",
      "source": [
        "mask_count = {}\n",
        "\n",
        "# 取得藥局所在的縣市\n",
        "for d in data['features']:\n",
        "    county = d['properties']['county']\n",
        "\n",
        "    # 藥局成人口罩數量\n",
        "    adult_mask = d['properties']['mask_adult']\n",
        "\n",
        "    if county not in mask_count:\n",
        "        mask_count[county] = adult_mask\n",
        "    else:\n",
        "        # 縣市原有的成人口罩數量與當前藥局成人口罩數量相加\n",
        "        mask_count[county] += adult_mask\n",
        "\n",
        "# 成人口罩數量從大到小排列\n",
        "med_count = dict(sorted(mask_count.items(), key=lambda item: item[1], reverse=True))\n",
        "\n",
        "print(med_count)"
      ],
      "metadata": {
        "colab": {
          "base_uri": "https://localhost:8080/"
        },
        "id": "UnzcYdfDDzpY",
        "outputId": "fbee07c4-4d61-4209-f378-af4520d45d27"
      },
      "execution_count": 3,
      "outputs": [
        {
          "output_type": "stream",
          "name": "stdout",
          "text": [
            "{'新北市': 670270, '臺中市': 536710, '高雄市': 424170, '臺南市': 393900, '桃園市': 331940, '臺北市': 322490, '彰化縣': 219400, '雲林縣': 196990, '屏東縣': 184250, '苗栗縣': 131080, '嘉義縣': 113180, '嘉義市': 107840, '宜蘭縣': 106900, '南投縣': 91240, '基隆市': 80100, '': 69210, '花蓮縣': 57330, '新竹縣': 51350, '新竹市': 45630, '臺東縣': 28510, '金門縣': 15510, '澎湖縣': 12600, '連江縣': 7930}\n"
          ]
        }
      ]
    }
  ]
}